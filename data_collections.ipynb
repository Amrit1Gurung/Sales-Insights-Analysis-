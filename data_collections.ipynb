{
 "cells": [
  {
   "cell_type": "markdown",
   "metadata": {},
   "source": [
    "All datas are in MySQL database. At first, i tried to export data tables from MySQL in CSV format but there was problem of row limits and delay exporting. So i used python to connect to MySQL and collect datas in CSV format.  \n",
    "\n",
    "The data tables we are collecting are: \n",
    "- transactions\n",
    "- customers\n",
    "- dadte\n",
    "- markets\n",
    "- products"
   ]
  },
  {
   "cell_type": "code",
   "execution_count": 6,
   "metadata": {},
   "outputs": [],
   "source": [
    "import mysql.connector\n",
    "import pandas as pd"
   ]
  },
  {
   "cell_type": "code",
   "execution_count": 5,
   "metadata": {},
   "outputs": [],
   "source": [
    "conn = mysql.connector.connect(\n",
    "  host=\"localhost\",\n",
    "  user=\"root\",\n",
    "  password=\"icui123@#$\",\n",
    "  database = \"sales\"\n",
    ")\n",
    "\n",
    "cursor = conn.cursor()\n",
    "query1 = \"SELECT * FROM transactions\" \n",
    "#query2 = \"SELECT * FROM date\"\n",
    "cursor.execute(query1)\n",
    "result1 = cursor.fetchall()"
   ]
  },
  {
   "cell_type": "code",
   "execution_count": 7,
   "metadata": {},
   "outputs": [],
   "source": [
    "trans_columns = ['product_code', 'customer_code', 'market_code', 'order_date',\n",
    "           'sales_qty', 'sales_amount', 'currency', 'profit_margin_percentage',\n",
    "           'profit_margin', 'cost_price']\n",
    "\n",
    "transactions = pd.DataFrame(list(result1),columns=trans_columns)\n",
    "transactions.to_csv('data/transactions.csv')"
   ]
  },
  {
   "cell_type": "code",
   "execution_count": 8,
   "metadata": {},
   "outputs": [
    {
     "data": {
      "text/plain": [
       "(148395, 10)"
      ]
     },
     "execution_count": 8,
     "metadata": {},
     "output_type": "execute_result"
    }
   ],
   "source": [
    "transactions.shape"
   ]
  },
  {
   "cell_type": "code",
   "execution_count": 9,
   "metadata": {},
   "outputs": [],
   "source": [
    "query2 = \"SELECT * FROM customers\"\n",
    "cursor.execute(query2)\n",
    "result2 = cursor.fetchall()"
   ]
  },
  {
   "cell_type": "code",
   "execution_count": 10,
   "metadata": {},
   "outputs": [],
   "source": [
    "cust_columns = ['customer_code','custmer_name','customer_type']\n",
    "customers = pd.DataFrame(list(result2),columns=cust_columns)\n",
    "customers.to_csv('data/customers.csv')"
   ]
  },
  {
   "cell_type": "code",
   "execution_count": 11,
   "metadata": {},
   "outputs": [
    {
     "data": {
      "text/plain": [
       "(38, 3)"
      ]
     },
     "execution_count": 11,
     "metadata": {},
     "output_type": "execute_result"
    }
   ],
   "source": [
    "customers.shape"
   ]
  },
  {
   "cell_type": "code",
   "execution_count": 12,
   "metadata": {},
   "outputs": [],
   "source": [
    "query3 = \"SELECT * FROM date\"\n",
    "cursor.execute(query3)\n",
    "result3 = cursor.fetchall()"
   ]
  },
  {
   "cell_type": "code",
   "execution_count": 13,
   "metadata": {},
   "outputs": [],
   "source": [
    "date_columns = ['date', 'cy_date', 'year', 'month_name', 'date_yy_mmm']\n",
    "date = pd.DataFrame(list(result3),columns=date_columns)\n",
    "date.to_csv('data/date.csv')"
   ]
  },
  {
   "cell_type": "code",
   "execution_count": 14,
   "metadata": {},
   "outputs": [
    {
     "data": {
      "text/plain": [
       "(1126, 5)"
      ]
     },
     "execution_count": 14,
     "metadata": {},
     "output_type": "execute_result"
    }
   ],
   "source": [
    "date.shape"
   ]
  },
  {
   "cell_type": "code",
   "execution_count": 15,
   "metadata": {},
   "outputs": [],
   "source": [
    "query4 = \"SELECT * FROM markets\"\n",
    "cursor.execute(query4)\n",
    "result4 = cursor.fetchall()"
   ]
  },
  {
   "cell_type": "code",
   "execution_count": 22,
   "metadata": {},
   "outputs": [],
   "source": [
    "market_columns = ['markets_code','markets_name','zone']\n",
    "markets = pd.DataFrame(list(result4),columns=market_columns)\n",
    "markets.to_csv('data/markets.csv')"
   ]
  },
  {
   "cell_type": "code",
   "execution_count": 23,
   "metadata": {},
   "outputs": [
    {
     "data": {
      "text/plain": [
       "(17, 3)"
      ]
     },
     "execution_count": 23,
     "metadata": {},
     "output_type": "execute_result"
    }
   ],
   "source": [
    "markets.shape"
   ]
  },
  {
   "cell_type": "code",
   "execution_count": 19,
   "metadata": {},
   "outputs": [],
   "source": [
    "query5 = \"SELECT * FROM products\"\n",
    "cursor.execute(query5)\n",
    "result5 = cursor.fetchall()"
   ]
  },
  {
   "cell_type": "code",
   "execution_count": 20,
   "metadata": {},
   "outputs": [],
   "source": [
    "product_columns = ['product_code','product_type']\n",
    "products = pd.DataFrame(list(result5),columns=product_columns)\n",
    "products.to_csv('data/products.csv')"
   ]
  },
  {
   "cell_type": "code",
   "execution_count": 21,
   "metadata": {},
   "outputs": [
    {
     "data": {
      "text/plain": [
       "(279, 2)"
      ]
     },
     "execution_count": 21,
     "metadata": {},
     "output_type": "execute_result"
    }
   ],
   "source": [
    "products.shape"
   ]
  },
  {
   "cell_type": "code",
   "execution_count": null,
   "metadata": {},
   "outputs": [],
   "source": []
  }
 ],
 "metadata": {
  "kernelspec": {
   "display_name": "Python 3",
   "language": "python",
   "name": "python3"
  },
  "language_info": {
   "codemirror_mode": {
    "name": "ipython",
    "version": 3
   },
   "file_extension": ".py",
   "mimetype": "text/x-python",
   "name": "python",
   "nbconvert_exporter": "python",
   "pygments_lexer": "ipython3",
   "version": "3.8.3"
  }
 },
 "nbformat": 4,
 "nbformat_minor": 4
}
